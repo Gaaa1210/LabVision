{
 "cells": [
  {
   "cell_type": "code",
   "execution_count": null,
   "metadata": {},
   "outputs": [],
   "source": [
    "from fastapi import FastAPI\n",
    "from pydantic import BaseModel\n",
    "\n",
    "app = FastAPI()\n",
    "\n",
    "class Paciente(BaseModel):\n",
    "    paciente_id: int\n",
    "    nome: str\n",
    "    idade: int\n",
    "    sexo: str\n",
    "    peso: float\n",
    "    altura: float\n",
    "    data_nascimento: str\n",
    "    alergias: str\n",
    "    doencas_preexistentes: str\n",
    "\n"
   ]
  }
 ],
 "metadata": {
  "kernelspec": {
   "display_name": "Python 3",
   "language": "python",
   "name": "python3"
  },
  "language_info": {
   "name": "python",
   "version": "3.12.6"
  }
 },
 "nbformat": 4,
 "nbformat_minor": 2
}
