{
 "cells": [
  {
   "cell_type": "code",
   "execution_count": null,
   "metadata": {},
   "outputs": [],
   "source": [
    "from fastapi import FastAPI\n",
    "from pydantic import BaseModel\n",
    "\n",
    "app = FastAPI()\n",
    "\n",
    "class Exame(BaseModel):\n",
    "    paciente: Paciente\n",
    "    exame_tipo: str\n",
    "    resultado: str\n",
    "    data_exame: str\n",
    "    observacoes: str\n",
    "    medico_responsavel: str\n",
    "    data_resultado: str\n",
    "    status: str\n",
    "    "
   ]
  }
 ],
 "metadata": {
  "kernelspec": {
   "display_name": "Python 3",
   "language": "python",
   "name": "python3"
  },
  "language_info": {
   "name": "python",
   "version": "3.12.6"
  }
 },
 "nbformat": 4,
 "nbformat_minor": 2
}
