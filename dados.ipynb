{
 "cells": [
  {
   "cell_type": "code",
   "execution_count": null,
   "metadata": {},
   "outputs": [],
   "source": [
    "def preencher_formulario():\n",
    "    print(\"===Cadastro de Cliente===\")\n",
    "\n",
    "    nome = input(\"Digite o nome do paciente: \")\n",
    "    idade = int(input(\"Digite a idade do paciente: \"))\n",
    "    altura = float(input(\"Digite a altura do paciente (em metros): \"))\n",
    "    peso = float(input(\"Digite o peso do paciente (em kg): \"))\n",
    "    sexo = input(\"Digite o sexo do paciente (Masculino/Feminino): \")\n",
    "    cidade = input(\"Digite a cidade do paciente: \")\n",
    "    exame = input(\"Digite o tipo de exame: \")\n",
    "    \n",
    "\n",
    "\n",
    "\n",
    "#dados_cliente= {\"Thalynne\":{\"id\": 111111, \"idade\": 20, \"altura\": 1.70, \"peso\": 60.0, \"sexo\": \"Feminino\", \"cidade\": \"São Paulo\" \"exame\":\"laparoscopia\"}}"
   ]
  }
 ],
 "metadata": {
  "kernelspec": {
   "display_name": "Python 3",
   "language": "python",
   "name": "python3"
  },
  "language_info": {
   "name": "python",
   "version": "3.12.6"
  }
 },
 "nbformat": 4,
 "nbformat_minor": 2
}
